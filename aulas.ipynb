{
 "cells": [
  {
   "cell_type": "code",
   "execution_count": 31,
   "id": "initial_id",
   "metadata": {
    "collapsed": true,
    "ExecuteTime": {
     "end_time": "2023-11-28T17:56:38.132264300Z",
     "start_time": "2023-11-28T17:56:38.129257500Z"
    }
   },
   "outputs": [],
   "source": [
    "from webdriver_manager.chrome import ChromeDriverManager\n",
    "from selenium import webdriver\n",
    "from selenium.webdriver.chrome.service import Service\n",
    "from selenium.webdriver.common.by import By\n",
    "\n",
    "from selenium.webdriver.support.ui import WebDriverWait\n",
    "from selenium.webdriver.support import expected_conditions as EC\n",
    "from selenium.webdriver.common.keys import Keys"
   ]
  },
  {
   "cell_type": "code",
   "execution_count": 32,
   "outputs": [],
   "source": [
    "service = Service(ChromeDriverManager().install())\n",
    "driver = webdriver.Chrome(service=service)"
   ],
   "metadata": {
    "collapsed": false,
    "ExecuteTime": {
     "end_time": "2023-11-28T17:56:42.286743800Z",
     "start_time": "2023-11-28T17:56:39.240738600Z"
    }
   },
   "id": "9505fe25001fe7c9"
  },
  {
   "cell_type": "code",
   "execution_count": 33,
   "outputs": [],
   "source": [
    "driver.get(\"https://web.whatsapp.com/\")"
   ],
   "metadata": {
    "collapsed": false,
    "ExecuteTime": {
     "end_time": "2023-11-28T17:56:54.301949700Z",
     "start_time": "2023-11-28T17:56:53.489975600Z"
    }
   },
   "id": "3c3529e8345014d6"
  },
  {
   "cell_type": "code",
   "execution_count": 34,
   "outputs": [],
   "source": [
    "wait = WebDriverWait(driver, 600)\n",
    "barra_lateral = wait.until(EC.presence_of_element_located((By.ID, \"side\")))"
   ],
   "metadata": {
    "collapsed": false,
    "ExecuteTime": {
     "end_time": "2023-11-28T17:58:05.239422400Z",
     "start_time": "2023-11-28T17:57:41.867516800Z"
    }
   },
   "id": "4fd29cbc680b776d"
  },
  {
   "cell_type": "code",
   "execution_count": 35,
   "outputs": [],
   "source": [
    "driver.implicitly_wait(2)"
   ],
   "metadata": {
    "collapsed": false,
    "ExecuteTime": {
     "end_time": "2023-11-28T17:58:12.261306300Z",
     "start_time": "2023-11-28T17:58:12.238073400Z"
    }
   },
   "id": "5d8e796cfc06de35"
  },
  {
   "cell_type": "code",
   "execution_count": 36,
   "outputs": [],
   "source": [
    "barra_pesquisa = driver.find_element(By.XPATH, '//div[@title=\"Search input textbox\"]')\n",
    "barra_pesquisa.send_keys(Keys.CONTROL + \"a\")\n",
    "barra_pesquisa.send_keys(Keys.DELETE)"
   ],
   "metadata": {
    "collapsed": false,
    "ExecuteTime": {
     "end_time": "2023-11-28T17:58:19.115576300Z",
     "start_time": "2023-11-28T17:58:18.940959700Z"
    }
   },
   "id": "c12363c854b38d38"
  },
  {
   "cell_type": "code",
   "execution_count": 37,
   "outputs": [],
   "source": [
    "nome_contato = \"Marcello Alves\"\n",
    "barra_pesquisa = driver.find_element(By.XPATH, '//div[@title=\"Search input textbox\"]')\n",
    "barra_pesquisa.send_keys(nome_contato)"
   ],
   "metadata": {
    "collapsed": false,
    "ExecuteTime": {
     "end_time": "2023-11-28T17:59:05.061868700Z",
     "start_time": "2023-11-28T17:59:04.530083100Z"
    }
   },
   "id": "977dc922bd8f908d"
  },
  {
   "cell_type": "code",
   "execution_count": 47,
   "outputs": [],
   "source": [
    "# selecionar contato\n",
    "\n",
    "wait = WebDriverWait(driver, timeout=2)\n",
    "conversa_lateral = wait.until(EC.presence_of_element_located((By.XPATH, f'//span[@title=\"{nome_contato}\"]')))\n",
    "conversa_lateral.click()\n",
    "\n"
   ],
   "metadata": {
    "collapsed": false,
    "ExecuteTime": {
     "end_time": "2023-11-28T18:18:49.247222900Z",
     "start_time": "2023-11-28T18:18:49.031121600Z"
    }
   },
   "id": "3783fb65fd5e615e"
  },
  {
   "cell_type": "code",
   "execution_count": 30,
   "outputs": [],
   "source": [
    "# enviar mensagem\n",
    "\n",
    "barra_conversa = driver.find_element(By.XPATH, '//div[@title=\"Type a message\"]')\n",
    "barra_pesquisa.send_keys(Keys.CONTROL + \"a\")\n",
    "barra_pesquisa.send_keys(Keys.DELETE)\n",
    "barra_conversa.send_keys(\"Te amo!\")\n",
    "barra_conversa.send_keys(Keys.ENTER)"
   ],
   "metadata": {
    "collapsed": false,
    "ExecuteTime": {
     "end_time": "2023-11-28T11:13:40.517017400Z",
     "start_time": "2023-11-28T11:13:37.790452600Z"
    }
   },
   "id": "2c581504329d5652"
  },
  {
   "cell_type": "code",
   "execution_count": 48,
   "outputs": [],
   "source": [
    "# enviar arquivo\n",
    "\n",
    "caminho_documento = \"C:\\\\Users\\\\Marcello\\\\Desktop\\\\teste.txt\"\n",
    "\n",
    "botao_attach = driver.find_element(By.XPATH, '//div[@title=\"Attach\" or @title=\"Anexar\"]')\n",
    "botao_attach.click()\n",
    "\n",
    "document = driver.find_element(By.XPATH, '//input[@type=\"file\" and @accept=\"*\"]')\n",
    "document.send_keys(caminho_documento)\n",
    "\n",
    "botao_enviar = driver.find_element(By.XPATH, '//span[@data-icon=\"send\"]')\n",
    "botao_enviar.click()"
   ],
   "metadata": {
    "collapsed": false,
    "ExecuteTime": {
     "end_time": "2023-11-28T18:19:55.538305700Z",
     "start_time": "2023-11-28T18:19:54.916489600Z"
    }
   },
   "id": "10b373f1d1fe36e4"
  },
  {
   "cell_type": "code",
   "execution_count": 50,
   "outputs": [],
   "source": [
    "# enviar imagem / video\n",
    "\n",
    "caminho_imagem = \"C:\\\\Users\\\\Marcello\\\\Desktop\\\\TIPOS DE AULA TIMES.jpg\"\n",
    "\n",
    "botao_attach = driver.find_element(By.XPATH, '//div[@title=\"Attach\" or @title=\"Anexar\"]')\n",
    "botao_attach.click()\n",
    "\n",
    "document = driver.find_element(By.XPATH, '//input[@type=\"file\" and @accept=\"image/*,video/mp4,video/3gpp,video/quicktime\"]')\n",
    "document.send_keys(caminho_imagem)\n",
    "\n",
    "botao_enviar = driver.find_element(By.XPATH, '//span[@data-icon=\"send\" or @data-icon=\"Enviar\"]')\n",
    "botao_enviar.click()"
   ],
   "metadata": {
    "collapsed": false,
    "ExecuteTime": {
     "end_time": "2023-11-28T20:18:59.829254400Z",
     "start_time": "2023-11-28T20:18:58.990821800Z"
    }
   },
   "id": "15d76b21f742f07"
  }
 ],
 "metadata": {
  "kernelspec": {
   "display_name": "Python 3",
   "language": "python",
   "name": "python3"
  },
  "language_info": {
   "codemirror_mode": {
    "name": "ipython",
    "version": 2
   },
   "file_extension": ".py",
   "mimetype": "text/x-python",
   "name": "python",
   "nbconvert_exporter": "python",
   "pygments_lexer": "ipython2",
   "version": "2.7.6"
  }
 },
 "nbformat": 4,
 "nbformat_minor": 5
}
